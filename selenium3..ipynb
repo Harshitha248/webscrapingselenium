{
 "cells": [
  {
   "cell_type": "code",
   "execution_count": 1,
   "id": "fallen-luxury",
   "metadata": {},
   "outputs": [],
   "source": [
    "import requests\n",
    "from selenium import webdriver\n",
    "\n",
    "browser = webdriver.Chrome()\n",
    "\n",
    "browser.get(\"https://www.naukri.com/\")\n",
    "from bs4 import BeautifulSoup\n"
   ]
  },
  {
   "cell_type": "code",
   "execution_count": 2,
   "id": "arctic-joseph",
   "metadata": {},
   "outputs": [],
   "source": [
    "search_job = browser.find_element_by_id(\"qsb-keyword-sugg\")\n",
    "search_job.send_keys(\"Data scientist\")"
   ]
  },
  {
   "cell_type": "code",
   "execution_count": 3,
   "id": "little-sound",
   "metadata": {},
   "outputs": [],
   "source": [
    "search_loc = browser.find_element_by_id (\"qsb-location-sugg\")\n",
    "search_loc.send_keys(\"Dehli/NCR\")"
   ]
  },
  {
   "cell_type": "code",
   "execution_count": 4,
   "id": "sapphire-slovenia",
   "metadata": {},
   "outputs": [],
   "source": [
    "search_btn = browser.find_element_by_class_name (\"btn\")\n",
    "search_btn.click()"
   ]
  },
  {
   "cell_type": "code",
   "execution_count": 5,
   "id": "expressed-covering",
   "metadata": {},
   "outputs": [],
   "source": [
    "url=\"https://www.naukri.com/data-scientist-jobs-in-dehli-ncr?k=data%20scientist&l=dehli%2Fncr&cityTypeGid=9508&ctcFilter=3to6\""
   ]
  },
  {
   "cell_type": "code",
   "execution_count": 6,
   "id": "durable-moment",
   "metadata": {},
   "outputs": [],
   "source": [
    "#lets open the webpage through our webdriver\n",
    "browser.get(url)"
   ]
  },
  {
   "cell_type": "code",
   "execution_count": 7,
   "id": "coordinated-picking",
   "metadata": {},
   "outputs": [],
   "source": [
    "job_titles=[]\n",
    "company_names=[]\n",
    "location_list=[]\n",
    "experience_required=[]"
   ]
  },
  {
   "cell_type": "code",
   "execution_count": 8,
   "id": "north-tobacco",
   "metadata": {},
   "outputs": [
    {
     "data": {
      "text/plain": [
       "[<selenium.webdriver.remote.webelement.WebElement (session=\"16960404db757bb952c67415e8c5cd47\", element=\"5deb7575-eb23-4868-bd3b-3ce1ce306a9e\")>,\n",
       " <selenium.webdriver.remote.webelement.WebElement (session=\"16960404db757bb952c67415e8c5cd47\", element=\"a47de1c5-ce87-4863-9243-8203a8a938eb\")>,\n",
       " <selenium.webdriver.remote.webelement.WebElement (session=\"16960404db757bb952c67415e8c5cd47\", element=\"e4eec4fe-641c-46fe-aa25-473f1d200357\")>,\n",
       " <selenium.webdriver.remote.webelement.WebElement (session=\"16960404db757bb952c67415e8c5cd47\", element=\"91a1309e-dd1c-49da-bf1e-35e86d83da7c\")>]"
      ]
     },
     "execution_count": 8,
     "metadata": {},
     "output_type": "execute_result"
    }
   ],
   "source": [
    "title_tags = browser.find_elements_by_xpath (\"//a[@class='title fw500 ellipsis']\")\n",
    "title_tags[0:4]"
   ]
  },
  {
   "cell_type": "code",
   "execution_count": 11,
   "id": "hybrid-trauma",
   "metadata": {},
   "outputs": [],
   "source": [
    "job_titles=[]\n",
    "for i in title_tags:\n",
    "    title=i.text\n",
    "    job_titles.append(title)"
   ]
  },
  {
   "cell_type": "code",
   "execution_count": 12,
   "id": "hungry-surgery",
   "metadata": {},
   "outputs": [
    {
     "data": {
      "text/plain": [
       "['Developer - Data Science',\n",
       " 'Data Scientist/Data Analyst - Python/Machine Learning',\n",
       " 'Data Scientist',\n",
       " 'Data Scientist - Python & Machine Learning']"
      ]
     },
     "execution_count": 12,
     "metadata": {},
     "output_type": "execute_result"
    }
   ],
   "source": [
    "job_titles[0:4]"
   ]
  },
  {
   "cell_type": "code",
   "execution_count": 14,
   "id": "studied-visibility",
   "metadata": {},
   "outputs": [
    {
     "data": {
      "text/plain": [
       "[<selenium.webdriver.remote.webelement.WebElement (session=\"16960404db757bb952c67415e8c5cd47\", element=\"87c16d29-1e72-4bbb-bb7a-f499543a5837\")>,\n",
       " <selenium.webdriver.remote.webelement.WebElement (session=\"16960404db757bb952c67415e8c5cd47\", element=\"2933c291-dbc6-4a4b-bde0-0df68f1eddef\")>,\n",
       " <selenium.webdriver.remote.webelement.WebElement (session=\"16960404db757bb952c67415e8c5cd47\", element=\"44204202-44d2-45b6-a4f7-03ec98ac742f\")>,\n",
       " <selenium.webdriver.remote.webelement.WebElement (session=\"16960404db757bb952c67415e8c5cd47\", element=\"03ef95f5-e036-476d-80a5-93f0e8c68600\")>]"
      ]
     },
     "execution_count": 14,
     "metadata": {},
     "output_type": "execute_result"
    }
   ],
   "source": [
    "company_tags = browser.find_elements_by_xpath(\"//a[@class='subTitle ellipsis fleft']\")\n",
    "company_tags[0:4]"
   ]
  },
  {
   "cell_type": "code",
   "execution_count": 15,
   "id": "optional-venture",
   "metadata": {},
   "outputs": [],
   "source": [
    "company_name=[]\n",
    "for i in company_tags:\n",
    "    company=i.text\n",
    "    company_name.append(company)\n",
    "    "
   ]
  },
  {
   "cell_type": "code",
   "execution_count": 16,
   "id": "alone-contact",
   "metadata": {},
   "outputs": [
    {
     "data": {
      "text/plain": [
       "['ICL Systems India Private Limited',\n",
       " 'Change leaders',\n",
       " 'Amity University',\n",
       " 'FUTURES AND CAREERS']"
      ]
     },
     "execution_count": 16,
     "metadata": {},
     "output_type": "execute_result"
    }
   ],
   "source": [
    "company_name[0:4]"
   ]
  },
  {
   "cell_type": "code",
   "execution_count": 17,
   "id": "amateur-ceramic",
   "metadata": {},
   "outputs": [
    {
     "data": {
      "text/plain": [
       "[<selenium.webdriver.remote.webelement.WebElement (session=\"16960404db757bb952c67415e8c5cd47\", element=\"fbda2527-927a-43d8-ba31-7a7feb453383\")>,\n",
       " <selenium.webdriver.remote.webelement.WebElement (session=\"16960404db757bb952c67415e8c5cd47\", element=\"2b2a1a9c-cc89-4801-963d-7b0e11b2877b\")>,\n",
       " <selenium.webdriver.remote.webelement.WebElement (session=\"16960404db757bb952c67415e8c5cd47\", element=\"61044738-f47e-4d80-af64-eae0c52426e1\")>,\n",
       " <selenium.webdriver.remote.webelement.WebElement (session=\"16960404db757bb952c67415e8c5cd47\", element=\"030921c5-a684-48c2-a62a-9368be5f8fef\")>]"
      ]
     },
     "execution_count": 17,
     "metadata": {},
     "output_type": "execute_result"
    }
   ],
   "source": [
    "experience_tags = browser.find_elements_by_xpath(\"//li[@class='fleft grey-text br2 placeHolderLi experience']\")\n",
    "experience_tags[0:4]"
   ]
  },
  {
   "cell_type": "code",
   "execution_count": 18,
   "id": "conservative-memorabilia",
   "metadata": {},
   "outputs": [],
   "source": [
    "experience_years=[]\n",
    "for i in experience_tags:\n",
    "    experience=i.text\n",
    "    experience_years.append(experience)\n",
    "    "
   ]
  },
  {
   "cell_type": "code",
   "execution_count": 20,
   "id": "precious-jacket",
   "metadata": {},
   "outputs": [
    {
     "data": {
      "text/plain": [
       "['3-5 Yrs', '5-10 Yrs', '6-8 Yrs', '2-7 Yrs']"
      ]
     },
     "execution_count": 20,
     "metadata": {},
     "output_type": "execute_result"
    }
   ],
   "source": [
    "experience_years[0:4]"
   ]
  },
  {
   "cell_type": "code",
   "execution_count": 21,
   "id": "criminal-legislature",
   "metadata": {},
   "outputs": [
    {
     "data": {
      "text/plain": [
       "[<selenium.webdriver.remote.webelement.WebElement (session=\"16960404db757bb952c67415e8c5cd47\", element=\"fb2ac9f4-4aaf-4716-88a6-b12a6f353a74\")>,\n",
       " <selenium.webdriver.remote.webelement.WebElement (session=\"16960404db757bb952c67415e8c5cd47\", element=\"9983f654-9fa9-4934-ac61-0c165d8f3d41\")>,\n",
       " <selenium.webdriver.remote.webelement.WebElement (session=\"16960404db757bb952c67415e8c5cd47\", element=\"2bdddf9a-577c-4015-bfe0-bbc356017770\")>,\n",
       " <selenium.webdriver.remote.webelement.WebElement (session=\"16960404db757bb952c67415e8c5cd47\", element=\"185e7de9-9107-45cd-8dde-4e3d5190146b\")>]"
      ]
     },
     "execution_count": 21,
     "metadata": {},
     "output_type": "execute_result"
    }
   ],
   "source": [
    "location_tags = browser.find_elements_by_xpath(\"//li[@class='fleft grey-text br2 placeHolderLi location']\")\n",
    "location_tags[0:4]"
   ]
  },
  {
   "cell_type": "code",
   "execution_count": 22,
   "id": "spiritual-graphic",
   "metadata": {},
   "outputs": [],
   "source": [
    "locations=[]\n",
    "for i in location_tags:\n",
    "    location=i.text\n",
    "    locations.append(location)\n",
    "    "
   ]
  },
  {
   "cell_type": "code",
   "execution_count": 24,
   "id": "hired-player",
   "metadata": {},
   "outputs": [
    {
     "data": {
      "text/plain": [
       "['Delhi / NCR',\n",
       " 'Mumbai, Ghaziabad',\n",
       " 'Ghaziabad, Faridabad, Delhi / NCR',\n",
       " 'Hyderabad/Secunderabad, Pune, Bangalore/Bengaluru, Delhi / NCR, Mumbai (All Areas)']"
      ]
     },
     "execution_count": 24,
     "metadata": {},
     "output_type": "execute_result"
    }
   ],
   "source": [
    "locations[0:4]"
   ]
  },
  {
   "cell_type": "code",
   "execution_count": 25,
   "id": "racial-sword",
   "metadata": {},
   "outputs": [
    {
     "name": "stdout",
     "output_type": "stream",
     "text": [
      "21 21 21 21\n"
     ]
    }
   ],
   "source": [
    "print(len(job_titles), len(company_name), len(locations), len(experience_years))"
   ]
  },
  {
   "cell_type": "code",
   "execution_count": 26,
   "id": "empirical-mechanism",
   "metadata": {},
   "outputs": [],
   "source": [
    "import pandas as pd\n",
    "jobs=pd.DataFrame({})\n",
    "jobs['title']=job_titles\n",
    "jobs['company']=company_name\n",
    "jobs['location']=locations\n",
    "jobs['experience_required']=experience_years"
   ]
  },
  {
   "cell_type": "code",
   "execution_count": 27,
   "id": "forward-leeds",
   "metadata": {},
   "outputs": [
    {
     "data": {
      "text/html": [
       "<div>\n",
       "<style scoped>\n",
       "    .dataframe tbody tr th:only-of-type {\n",
       "        vertical-align: middle;\n",
       "    }\n",
       "\n",
       "    .dataframe tbody tr th {\n",
       "        vertical-align: top;\n",
       "    }\n",
       "\n",
       "    .dataframe thead th {\n",
       "        text-align: right;\n",
       "    }\n",
       "</style>\n",
       "<table border=\"1\" class=\"dataframe\">\n",
       "  <thead>\n",
       "    <tr style=\"text-align: right;\">\n",
       "      <th></th>\n",
       "      <th>title</th>\n",
       "      <th>company</th>\n",
       "      <th>location</th>\n",
       "      <th>experience_required</th>\n",
       "    </tr>\n",
       "  </thead>\n",
       "  <tbody>\n",
       "    <tr>\n",
       "      <th>0</th>\n",
       "      <td>Developer - Data Science</td>\n",
       "      <td>ICL Systems India Private Limited</td>\n",
       "      <td>Delhi / NCR</td>\n",
       "      <td>3-5 Yrs</td>\n",
       "    </tr>\n",
       "    <tr>\n",
       "      <th>1</th>\n",
       "      <td>Data Scientist/Data Analyst - Python/Machine L...</td>\n",
       "      <td>Change leaders</td>\n",
       "      <td>Mumbai, Ghaziabad</td>\n",
       "      <td>5-10 Yrs</td>\n",
       "    </tr>\n",
       "    <tr>\n",
       "      <th>2</th>\n",
       "      <td>Data Scientist</td>\n",
       "      <td>Amity University</td>\n",
       "      <td>Ghaziabad, Faridabad, Delhi / NCR</td>\n",
       "      <td>6-8 Yrs</td>\n",
       "    </tr>\n",
       "    <tr>\n",
       "      <th>3</th>\n",
       "      <td>Data Scientist - Python &amp; Machine Learning</td>\n",
       "      <td>FUTURES AND CAREERS</td>\n",
       "      <td>Hyderabad/Secunderabad, Pune, Bangalore/Bengal...</td>\n",
       "      <td>2-7 Yrs</td>\n",
       "    </tr>\n",
       "    <tr>\n",
       "      <th>4</th>\n",
       "      <td>Data Scientist - Python &amp; Machine Learning</td>\n",
       "      <td>FUTURES AND CAREERS</td>\n",
       "      <td>Hyderabad/Secunderabad, Pune, Chennai, Bangalo...</td>\n",
       "      <td>2-7 Yrs</td>\n",
       "    </tr>\n",
       "    <tr>\n",
       "      <th>5</th>\n",
       "      <td>Data Scientist - Python / Machine Learning / T...</td>\n",
       "      <td>FUTURES AND CAREERS</td>\n",
       "      <td>Mumbai, Hyderabad/Secunderabad, Bangalore/Beng...</td>\n",
       "      <td>3-8 Yrs</td>\n",
       "    </tr>\n",
       "    <tr>\n",
       "      <th>6</th>\n",
       "      <td>Data Scientist - Python &amp; Machine Learning</td>\n",
       "      <td>FUTURES AND CAREERS</td>\n",
       "      <td>Hyderabad/Secunderabad, Bangalore/Bengaluru, D...</td>\n",
       "      <td>2-7 Yrs</td>\n",
       "    </tr>\n",
       "    <tr>\n",
       "      <th>7</th>\n",
       "      <td>Hiring For Data Scientist</td>\n",
       "      <td>Max Bupa Health Insurance Company Limited</td>\n",
       "      <td>Gurgaon/Gurugram, Delhi / NCR</td>\n",
       "      <td>1-6 Yrs</td>\n",
       "    </tr>\n",
       "    <tr>\n",
       "      <th>8</th>\n",
       "      <td>Required- Data Scientist (NLP)-Axis Bank - 6 m...</td>\n",
       "      <td>Axis Bank Limited</td>\n",
       "      <td>Kolkata, New Delhi, Hyderabad/Secunderabad, Pu...</td>\n",
       "      <td>4-9 Yrs</td>\n",
       "    </tr>\n",
       "    <tr>\n",
       "      <th>9</th>\n",
       "      <td>Data Scientist - Python / Machine Learning / T...</td>\n",
       "      <td>FUTURES AND CAREERS</td>\n",
       "      <td>Hyderabad/Secunderabad, Bangalore/Bengaluru, D...</td>\n",
       "      <td>3-8 Yrs</td>\n",
       "    </tr>\n",
       "    <tr>\n",
       "      <th>10</th>\n",
       "      <td>Data Scientist - Python &amp; Machine Learning (IS...</td>\n",
       "      <td>FUTURES AND CAREERS</td>\n",
       "      <td>Hyderabad/Secunderabad, Bangalore/Bengaluru, D...</td>\n",
       "      <td>3-8 Yrs</td>\n",
       "    </tr>\n",
       "    <tr>\n",
       "      <th>11</th>\n",
       "      <td>GCP Presales AIML Architect &amp; Data Scientist (...</td>\n",
       "      <td>Lecan Solutions Pvt Ltd</td>\n",
       "      <td>Noida</td>\n",
       "      <td>6-11 Yrs</td>\n",
       "    </tr>\n",
       "    <tr>\n",
       "      <th>12</th>\n",
       "      <td>GCP Presales AIML Architect &amp; Data Scientist (...</td>\n",
       "      <td>Lecan Solutions Pvt Ltd</td>\n",
       "      <td>Noida</td>\n",
       "      <td>6-11 Yrs</td>\n",
       "    </tr>\n",
       "    <tr>\n",
       "      <th>13</th>\n",
       "      <td>Data Scientist</td>\n",
       "      <td>NatWest Group</td>\n",
       "      <td>Gurgaon/Gurugram</td>\n",
       "      <td>4-8 Yrs</td>\n",
       "    </tr>\n",
       "    <tr>\n",
       "      <th>14</th>\n",
       "      <td>Data Scientist | Python | Machine Learning | D...</td>\n",
       "      <td>Careerera</td>\n",
       "      <td>Noida(Sector-59 Noida)</td>\n",
       "      <td>3-8 Yrs</td>\n",
       "    </tr>\n",
       "    <tr>\n",
       "      <th>15</th>\n",
       "      <td>Data Scientist</td>\n",
       "      <td>NatWest Group</td>\n",
       "      <td>Delhi / NCR</td>\n",
       "      <td>4-8 Yrs</td>\n",
       "    </tr>\n",
       "    <tr>\n",
       "      <th>16</th>\n",
       "      <td>Data Scientist</td>\n",
       "      <td>NatWest Group</td>\n",
       "      <td>Delhi / NCR</td>\n",
       "      <td>4-8 Yrs</td>\n",
       "    </tr>\n",
       "    <tr>\n",
       "      <th>17</th>\n",
       "      <td>Data Scientist</td>\n",
       "      <td>Country Veggie</td>\n",
       "      <td>Bharuch, Jaipur, Bhopal, Mumbai, Jhansi, Nagpu...</td>\n",
       "      <td>1-3 Yrs</td>\n",
       "    </tr>\n",
       "    <tr>\n",
       "      <th>18</th>\n",
       "      <td>Analyst - Data Science / Data Scientist | Clie...</td>\n",
       "      <td>RUBOID TECHNOVISION PRIVATE LIMITED</td>\n",
       "      <td>Gurgaon/Gurugram</td>\n",
       "      <td>3-5 Yrs</td>\n",
       "    </tr>\n",
       "    <tr>\n",
       "      <th>19</th>\n",
       "      <td>Data Scientist</td>\n",
       "      <td>BlackBuck</td>\n",
       "      <td>Gurgaon/Gurugram, Bangalore/Bengaluru</td>\n",
       "      <td>3-7 Yrs</td>\n",
       "    </tr>\n",
       "    <tr>\n",
       "      <th>20</th>\n",
       "      <td>Data Scientist</td>\n",
       "      <td>Mahajan Imaging</td>\n",
       "      <td>New Delhi</td>\n",
       "      <td>2-6 Yrs</td>\n",
       "    </tr>\n",
       "  </tbody>\n",
       "</table>\n",
       "</div>"
      ],
      "text/plain": [
       "                                                title  \\\n",
       "0                            Developer - Data Science   \n",
       "1   Data Scientist/Data Analyst - Python/Machine L...   \n",
       "2                                      Data Scientist   \n",
       "3          Data Scientist - Python & Machine Learning   \n",
       "4          Data Scientist - Python & Machine Learning   \n",
       "5   Data Scientist - Python / Machine Learning / T...   \n",
       "6          Data Scientist - Python & Machine Learning   \n",
       "7                           Hiring For Data Scientist   \n",
       "8   Required- Data Scientist (NLP)-Axis Bank - 6 m...   \n",
       "9   Data Scientist - Python / Machine Learning / T...   \n",
       "10  Data Scientist - Python & Machine Learning (IS...   \n",
       "11  GCP Presales AIML Architect & Data Scientist (...   \n",
       "12  GCP Presales AIML Architect & Data Scientist (...   \n",
       "13                                     Data Scientist   \n",
       "14  Data Scientist | Python | Machine Learning | D...   \n",
       "15                                     Data Scientist   \n",
       "16                                     Data Scientist   \n",
       "17                                     Data Scientist   \n",
       "18  Analyst - Data Science / Data Scientist | Clie...   \n",
       "19                                     Data Scientist   \n",
       "20                                     Data Scientist   \n",
       "\n",
       "                                      company  \\\n",
       "0           ICL Systems India Private Limited   \n",
       "1                              Change leaders   \n",
       "2                            Amity University   \n",
       "3                         FUTURES AND CAREERS   \n",
       "4                         FUTURES AND CAREERS   \n",
       "5                         FUTURES AND CAREERS   \n",
       "6                         FUTURES AND CAREERS   \n",
       "7   Max Bupa Health Insurance Company Limited   \n",
       "8                           Axis Bank Limited   \n",
       "9                         FUTURES AND CAREERS   \n",
       "10                        FUTURES AND CAREERS   \n",
       "11                    Lecan Solutions Pvt Ltd   \n",
       "12                    Lecan Solutions Pvt Ltd   \n",
       "13                              NatWest Group   \n",
       "14                                  Careerera   \n",
       "15                              NatWest Group   \n",
       "16                              NatWest Group   \n",
       "17                             Country Veggie   \n",
       "18        RUBOID TECHNOVISION PRIVATE LIMITED   \n",
       "19                                  BlackBuck   \n",
       "20                            Mahajan Imaging   \n",
       "\n",
       "                                             location experience_required  \n",
       "0                                         Delhi / NCR             3-5 Yrs  \n",
       "1                                   Mumbai, Ghaziabad            5-10 Yrs  \n",
       "2                   Ghaziabad, Faridabad, Delhi / NCR             6-8 Yrs  \n",
       "3   Hyderabad/Secunderabad, Pune, Bangalore/Bengal...             2-7 Yrs  \n",
       "4   Hyderabad/Secunderabad, Pune, Chennai, Bangalo...             2-7 Yrs  \n",
       "5   Mumbai, Hyderabad/Secunderabad, Bangalore/Beng...             3-8 Yrs  \n",
       "6   Hyderabad/Secunderabad, Bangalore/Bengaluru, D...             2-7 Yrs  \n",
       "7                       Gurgaon/Gurugram, Delhi / NCR             1-6 Yrs  \n",
       "8   Kolkata, New Delhi, Hyderabad/Secunderabad, Pu...             4-9 Yrs  \n",
       "9   Hyderabad/Secunderabad, Bangalore/Bengaluru, D...             3-8 Yrs  \n",
       "10  Hyderabad/Secunderabad, Bangalore/Bengaluru, D...             3-8 Yrs  \n",
       "11                                              Noida            6-11 Yrs  \n",
       "12                                              Noida            6-11 Yrs  \n",
       "13                                   Gurgaon/Gurugram             4-8 Yrs  \n",
       "14                             Noida(Sector-59 Noida)             3-8 Yrs  \n",
       "15                                        Delhi / NCR             4-8 Yrs  \n",
       "16                                        Delhi / NCR             4-8 Yrs  \n",
       "17  Bharuch, Jaipur, Bhopal, Mumbai, Jhansi, Nagpu...             1-3 Yrs  \n",
       "18                                   Gurgaon/Gurugram             3-5 Yrs  \n",
       "19              Gurgaon/Gurugram, Bangalore/Bengaluru             3-7 Yrs  \n",
       "20                                          New Delhi             2-6 Yrs  "
      ]
     },
     "execution_count": 27,
     "metadata": {},
     "output_type": "execute_result"
    }
   ],
   "source": [
    "jobs"
   ]
  },
  {
   "cell_type": "code",
   "execution_count": null,
   "id": "simplified-clinic",
   "metadata": {},
   "outputs": [],
   "source": []
  }
 ],
 "metadata": {
  "kernelspec": {
   "display_name": "Python 3",
   "language": "python",
   "name": "python3"
  },
  "language_info": {
   "codemirror_mode": {
    "name": "ipython",
    "version": 3
   },
   "file_extension": ".py",
   "mimetype": "text/x-python",
   "name": "python",
   "nbconvert_exporter": "python",
   "pygments_lexer": "ipython3",
   "version": "3.7.3"
  }
 },
 "nbformat": 4,
 "nbformat_minor": 5
}
