{
 "cells": [
  {
   "cell_type": "code",
   "execution_count": 1,
   "id": "fleet-vector",
   "metadata": {},
   "outputs": [],
   "source": [
    "import requests\n",
    "from selenium import webdriver\n",
    "\n",
    "browser = webdriver.Chrome()\n",
    "\n",
    "browser.get(\"https://www.naukri.com/\")\n",
    "from bs4 import BeautifulSoup\n"
   ]
  },
  {
   "cell_type": "code",
   "execution_count": 2,
   "id": "focused-leather",
   "metadata": {},
   "outputs": [],
   "source": [
    "search_job = browser.find_element_by_id(\"qsb-keyword-sugg\")\n",
    "search_job.send_keys(\"Data Analyst\")"
   ]
  },
  {
   "cell_type": "code",
   "execution_count": 3,
   "id": "metric-wrestling",
   "metadata": {},
   "outputs": [],
   "source": [
    "search_loc = browser.find_element_by_id (\"qsb-location-sugg\")\n",
    "search_loc.send_keys(\"Banglore\")"
   ]
  },
  {
   "cell_type": "code",
   "execution_count": 4,
   "id": "egyptian-guatemala",
   "metadata": {},
   "outputs": [],
   "source": [
    "search_btn = browser.find_element_by_class_name (\"btn\")\n",
    "search_btn.click()"
   ]
  },
  {
   "cell_type": "code",
   "execution_count": 5,
   "id": "spare-transformation",
   "metadata": {},
   "outputs": [],
   "source": [
    "#specifying the URL of webpage to be scraped\n",
    "url=\"https://www.naukri.com/data-analyst-jobs-in-banglore?k=data%20analyst&l=banglore\""
   ]
  },
  {
   "cell_type": "code",
   "execution_count": 6,
   "id": "subsequent-incident",
   "metadata": {},
   "outputs": [],
   "source": [
    "#lets open the webpage through our webdriver\n",
    "browser.get(url)"
   ]
  },
  {
   "cell_type": "code",
   "execution_count": 7,
   "id": "recognized-colon",
   "metadata": {},
   "outputs": [],
   "source": [
    "job_titles=[]\n",
    "company_names=[]\n",
    "location_list=[]\n",
    "experience_required=[]"
   ]
  },
  {
   "cell_type": "code",
   "execution_count": 8,
   "id": "loving-joshua",
   "metadata": {},
   "outputs": [
    {
     "data": {
      "text/plain": [
       "[<selenium.webdriver.remote.webelement.WebElement (session=\"218d966b7de277147f7a1f758b12e422\", element=\"fcfab154-9867-4628-b592-6e180d79137c\")>,\n",
       " <selenium.webdriver.remote.webelement.WebElement (session=\"218d966b7de277147f7a1f758b12e422\", element=\"78556a7a-1ac6-4e74-8f6e-d71d2a67ed98\")>,\n",
       " <selenium.webdriver.remote.webelement.WebElement (session=\"218d966b7de277147f7a1f758b12e422\", element=\"e3a90a00-9f56-46f9-aee9-1a500d11ac37\")>,\n",
       " <selenium.webdriver.remote.webelement.WebElement (session=\"218d966b7de277147f7a1f758b12e422\", element=\"4b5d994b-8d70-422e-b59d-cd2a0b0b266c\")>]"
      ]
     },
     "execution_count": 8,
     "metadata": {},
     "output_type": "execute_result"
    }
   ],
   "source": [
    "title_tags = browser.find_elements_by_xpath (\"//a[@class='title fw500 ellipsis']\")\n",
    "title_tags[0:4]"
   ]
  },
  {
   "cell_type": "code",
   "execution_count": 9,
   "id": "surrounded-portuguese",
   "metadata": {},
   "outputs": [],
   "source": [
    "for i in title_tags:\n",
    "    title=i.text\n",
    "    job_titles.append(title)"
   ]
  },
  {
   "cell_type": "code",
   "execution_count": 10,
   "id": "supported-powder",
   "metadata": {},
   "outputs": [
    {
     "data": {
      "text/plain": [
       "['Analyst Excel - Macros',\n",
       " 'Database Developer',\n",
       " 'Database Developer',\n",
       " 'Digital Marketing Executive']"
      ]
     },
     "execution_count": 10,
     "metadata": {},
     "output_type": "execute_result"
    }
   ],
   "source": [
    "job_titles[0:4]"
   ]
  },
  {
   "cell_type": "code",
   "execution_count": 11,
   "id": "written-hormone",
   "metadata": {},
   "outputs": [
    {
     "data": {
      "text/plain": [
       "[<selenium.webdriver.remote.webelement.WebElement (session=\"218d966b7de277147f7a1f758b12e422\", element=\"bfbf7ff3-28fd-45e7-ba6e-181d561cfd9f\")>,\n",
       " <selenium.webdriver.remote.webelement.WebElement (session=\"218d966b7de277147f7a1f758b12e422\", element=\"7fcac920-b9c0-4602-90fd-9301dd4d9243\")>,\n",
       " <selenium.webdriver.remote.webelement.WebElement (session=\"218d966b7de277147f7a1f758b12e422\", element=\"73637a10-f310-4d0f-a9c2-6c77a2129a5c\")>,\n",
       " <selenium.webdriver.remote.webelement.WebElement (session=\"218d966b7de277147f7a1f758b12e422\", element=\"01352526-6267-4cf3-b663-ad383c48fd25\")>]"
      ]
     },
     "execution_count": 11,
     "metadata": {},
     "output_type": "execute_result"
    }
   ],
   "source": [
    "location_tags = browser.find_elements_by_xpath(\"//li[@class='fleft grey-text br2 placeHolderLi location']\")\n",
    "location_tags[0:4]"
   ]
  },
  {
   "cell_type": "code",
   "execution_count": 12,
   "id": "scientific-korean",
   "metadata": {},
   "outputs": [],
   "source": [
    "location_name=[]\n",
    "for i in location_tags:\n",
    "    location=i.text\n",
    "    location_name.append(location)"
   ]
  },
  {
   "cell_type": "code",
   "execution_count": 13,
   "id": "orange-housing",
   "metadata": {},
   "outputs": [
    {
     "data": {
      "text/plain": [
       "['Pune, Jaipur, Delhi / NCR, Banglore, Pan India',\n",
       " 'Jaipur, Banglore',\n",
       " 'Jaipur, Banglore',\n",
       " 'Shimoga/Shivamogga, Banglore']"
      ]
     },
     "execution_count": 13,
     "metadata": {},
     "output_type": "execute_result"
    }
   ],
   "source": [
    "location_name[0:4]"
   ]
  },
  {
   "cell_type": "code",
   "execution_count": 14,
   "id": "fantastic-messaging",
   "metadata": {},
   "outputs": [
    {
     "data": {
      "text/plain": [
       "[<selenium.webdriver.remote.webelement.WebElement (session=\"218d966b7de277147f7a1f758b12e422\", element=\"fc637458-a7f9-41e5-b12e-c04191560eb1\")>,\n",
       " <selenium.webdriver.remote.webelement.WebElement (session=\"218d966b7de277147f7a1f758b12e422\", element=\"12492b3e-4ff0-466e-bfe8-a9b80021a65a\")>,\n",
       " <selenium.webdriver.remote.webelement.WebElement (session=\"218d966b7de277147f7a1f758b12e422\", element=\"2d4b9d13-4293-4569-a235-a6c65ceba84a\")>,\n",
       " <selenium.webdriver.remote.webelement.WebElement (session=\"218d966b7de277147f7a1f758b12e422\", element=\"232a33c1-6844-4800-abe4-155da9350907\")>]"
      ]
     },
     "execution_count": 14,
     "metadata": {},
     "output_type": "execute_result"
    }
   ],
   "source": [
    "company_tags = browser.find_elements_by_xpath(\"//a[@class='subTitle ellipsis fleft']\")\n",
    "company_tags[0:4]"
   ]
  },
  {
   "cell_type": "code",
   "execution_count": 15,
   "id": "cardiac-gauge",
   "metadata": {},
   "outputs": [],
   "source": [
    "company_name=[]\n",
    "for i in company_tags:\n",
    "    company=i.text\n",
    "    company_name.append(company)\n",
    "    "
   ]
  },
  {
   "cell_type": "code",
   "execution_count": 16,
   "id": "national-production",
   "metadata": {},
   "outputs": [
    {
     "data": {
      "text/plain": [
       "['Resources Valley',\n",
       " 'Resources Valley',\n",
       " 'Resources Valley',\n",
       " 'Babar management consultancies']"
      ]
     },
     "execution_count": 16,
     "metadata": {},
     "output_type": "execute_result"
    }
   ],
   "source": [
    "company_name[0:4]"
   ]
  },
  {
   "cell_type": "code",
   "execution_count": 17,
   "id": "detailed-roulette",
   "metadata": {},
   "outputs": [
    {
     "data": {
      "text/plain": [
       "[<selenium.webdriver.remote.webelement.WebElement (session=\"218d966b7de277147f7a1f758b12e422\", element=\"f41b3230-35e7-498f-b66a-725b44eb9138\")>,\n",
       " <selenium.webdriver.remote.webelement.WebElement (session=\"218d966b7de277147f7a1f758b12e422\", element=\"bc6b519a-2bd0-4a64-b8f8-21033622542f\")>,\n",
       " <selenium.webdriver.remote.webelement.WebElement (session=\"218d966b7de277147f7a1f758b12e422\", element=\"bbaf4106-1c2a-4102-9797-e478cd101d6a\")>,\n",
       " <selenium.webdriver.remote.webelement.WebElement (session=\"218d966b7de277147f7a1f758b12e422\", element=\"683a72f9-834a-4b99-a69a-e89e63531b3e\")>]"
      ]
     },
     "execution_count": 17,
     "metadata": {},
     "output_type": "execute_result"
    }
   ],
   "source": [
    "experience_tags = browser.find_elements_by_xpath(\"//li[@class='fleft grey-text br2 placeHolderLi experience']\")\n",
    "experience_tags[0:4]"
   ]
  },
  {
   "cell_type": "code",
   "execution_count": 18,
   "id": "partial-receiver",
   "metadata": {},
   "outputs": [],
   "source": [
    "experience_required=[]\n",
    "for i in experience_tags:\n",
    "    experience=i.text\n",
    "    experience_required.append(experience)\n",
    "    "
   ]
  },
  {
   "cell_type": "code",
   "execution_count": 19,
   "id": "experimental-trail",
   "metadata": {},
   "outputs": [
    {
     "data": {
      "text/plain": [
       "['1-3 Yrs', '3-6 Yrs', '3-6 Yrs', '0-2 Yrs']"
      ]
     },
     "execution_count": 19,
     "metadata": {},
     "output_type": "execute_result"
    }
   ],
   "source": [
    "experience_required[0:4]"
   ]
  },
  {
   "cell_type": "code",
   "execution_count": 20,
   "id": "allied-native",
   "metadata": {},
   "outputs": [
    {
     "name": "stdout",
     "output_type": "stream",
     "text": [
      "20 20 20 20\n"
     ]
    }
   ],
   "source": [
    "print(len(job_titles), len(company_name), len(location_name), len(experience_required))"
   ]
  },
  {
   "cell_type": "code",
   "execution_count": 22,
   "id": "polyphonic-barrier",
   "metadata": {},
   "outputs": [],
   "source": [
    "import pandas as pd\n",
    "jobs=pd.DataFrame({})\n",
    "jobs['title']=job_titles\n",
    "jobs['company']=company_name\n",
    "jobs['location']=location_name\n",
    "jobs['experience_required']=experience_required"
   ]
  },
  {
   "cell_type": "code",
   "execution_count": 23,
   "id": "adaptive-spokesman",
   "metadata": {},
   "outputs": [
    {
     "data": {
      "text/html": [
       "<div>\n",
       "<style scoped>\n",
       "    .dataframe tbody tr th:only-of-type {\n",
       "        vertical-align: middle;\n",
       "    }\n",
       "\n",
       "    .dataframe tbody tr th {\n",
       "        vertical-align: top;\n",
       "    }\n",
       "\n",
       "    .dataframe thead th {\n",
       "        text-align: right;\n",
       "    }\n",
       "</style>\n",
       "<table border=\"1\" class=\"dataframe\">\n",
       "  <thead>\n",
       "    <tr style=\"text-align: right;\">\n",
       "      <th></th>\n",
       "      <th>title</th>\n",
       "      <th>company</th>\n",
       "      <th>location</th>\n",
       "      <th>experience_required</th>\n",
       "    </tr>\n",
       "  </thead>\n",
       "  <tbody>\n",
       "    <tr>\n",
       "      <th>0</th>\n",
       "      <td>Analyst Excel - Macros</td>\n",
       "      <td>Resources Valley</td>\n",
       "      <td>Pune, Jaipur, Delhi / NCR, Banglore, Pan India</td>\n",
       "      <td>1-3 Yrs</td>\n",
       "    </tr>\n",
       "    <tr>\n",
       "      <th>1</th>\n",
       "      <td>Database Developer</td>\n",
       "      <td>Resources Valley</td>\n",
       "      <td>Jaipur, Banglore</td>\n",
       "      <td>3-6 Yrs</td>\n",
       "    </tr>\n",
       "    <tr>\n",
       "      <th>2</th>\n",
       "      <td>Database Developer</td>\n",
       "      <td>Resources Valley</td>\n",
       "      <td>Jaipur, Banglore</td>\n",
       "      <td>3-6 Yrs</td>\n",
       "    </tr>\n",
       "    <tr>\n",
       "      <th>3</th>\n",
       "      <td>Digital Marketing Executive</td>\n",
       "      <td>Babar management consultancies</td>\n",
       "      <td>Shimoga/Shivamogga, Banglore</td>\n",
       "      <td>0-2 Yrs</td>\n",
       "    </tr>\n",
       "    <tr>\n",
       "      <th>4</th>\n",
       "      <td>Manager : Internal Audit/Busniness Risk ( Heal...</td>\n",
       "      <td>Maaris Global</td>\n",
       "      <td>Banglore</td>\n",
       "      <td>4-9 Yrs</td>\n",
       "    </tr>\n",
       "    <tr>\n",
       "      <th>5</th>\n",
       "      <td>Devops Engineer</td>\n",
       "      <td>Resources Valley</td>\n",
       "      <td>Jaipur, Banglore</td>\n",
       "      <td>3-6 Yrs</td>\n",
       "    </tr>\n",
       "    <tr>\n",
       "      <th>6</th>\n",
       "      <td>Software Engineer</td>\n",
       "      <td>E BARAHA</td>\n",
       "      <td>Banglore</td>\n",
       "      <td>2-7 Yrs</td>\n",
       "    </tr>\n",
       "    <tr>\n",
       "      <th>7</th>\n",
       "      <td>Senior Consultant - Internal Audit/ Business R...</td>\n",
       "      <td>Maaris Global</td>\n",
       "      <td>Banglore</td>\n",
       "      <td>2-5 Yrs</td>\n",
       "    </tr>\n",
       "    <tr>\n",
       "      <th>8</th>\n",
       "      <td>Java Developer</td>\n",
       "      <td>Resources Valley</td>\n",
       "      <td>Jaipur, Banglore</td>\n",
       "      <td>3-6 Yrs</td>\n",
       "    </tr>\n",
       "    <tr>\n",
       "      <th>9</th>\n",
       "      <td>System Administrator</td>\n",
       "      <td>SPEED Consulting Pvt Ltd</td>\n",
       "      <td>Bangalore/Bengaluru, banglore</td>\n",
       "      <td>2-5 Yrs</td>\n",
       "    </tr>\n",
       "    <tr>\n",
       "      <th>10</th>\n",
       "      <td>Design Engineer CAD</td>\n",
       "      <td>Stainley</td>\n",
       "      <td>Banglore</td>\n",
       "      <td>1-4 Yrs</td>\n",
       "    </tr>\n",
       "    <tr>\n",
       "      <th>11</th>\n",
       "      <td>Web Developer(Yii developer)</td>\n",
       "      <td>T &amp; A Solutions</td>\n",
       "      <td>Banglore</td>\n",
       "      <td>2-5 Yrs</td>\n",
       "    </tr>\n",
       "    <tr>\n",
       "      <th>12</th>\n",
       "      <td>QA Engineer - Networking/Security</td>\n",
       "      <td>Arivon Technologies</td>\n",
       "      <td>Banglore</td>\n",
       "      <td>2-4 Yrs</td>\n",
       "    </tr>\n",
       "    <tr>\n",
       "      <th>13</th>\n",
       "      <td>Engineering Manager</td>\n",
       "      <td>Stainley</td>\n",
       "      <td>Banglore</td>\n",
       "      <td>2-10 Yrs</td>\n",
       "    </tr>\n",
       "    <tr>\n",
       "      <th>14</th>\n",
       "      <td>Node JS Developer</td>\n",
       "      <td>Resources Valley</td>\n",
       "      <td>Noida, Jaipur, Banglore</td>\n",
       "      <td>3-6 Yrs</td>\n",
       "    </tr>\n",
       "    <tr>\n",
       "      <th>15</th>\n",
       "      <td>Mechanical Engineer</td>\n",
       "      <td>Stainley</td>\n",
       "      <td>Banglore</td>\n",
       "      <td>1-3 Yrs</td>\n",
       "    </tr>\n",
       "    <tr>\n",
       "      <th>16</th>\n",
       "      <td>UI Developer</td>\n",
       "      <td>ANATTA TECHNOLOGY SOLUTIONS</td>\n",
       "      <td>Banglore</td>\n",
       "      <td>2-6 Yrs</td>\n",
       "    </tr>\n",
       "    <tr>\n",
       "      <th>17</th>\n",
       "      <td>Angular Developer</td>\n",
       "      <td>Resources Valley</td>\n",
       "      <td>Jaipur, Banglore</td>\n",
       "      <td>3-6 Yrs</td>\n",
       "    </tr>\n",
       "    <tr>\n",
       "      <th>18</th>\n",
       "      <td>Software engineer</td>\n",
       "      <td>Xpheno</td>\n",
       "      <td>Banglore</td>\n",
       "      <td>6-10 Yrs</td>\n",
       "    </tr>\n",
       "    <tr>\n",
       "      <th>19</th>\n",
       "      <td>IAM Developer</td>\n",
       "      <td>IDESLABS PRIVATE LIMITED</td>\n",
       "      <td>Banglore, Karnataka</td>\n",
       "      <td>5-5 Yrs</td>\n",
       "    </tr>\n",
       "  </tbody>\n",
       "</table>\n",
       "</div>"
      ],
      "text/plain": [
       "                                                title  \\\n",
       "0                              Analyst Excel - Macros   \n",
       "1                                  Database Developer   \n",
       "2                                  Database Developer   \n",
       "3                         Digital Marketing Executive   \n",
       "4   Manager : Internal Audit/Busniness Risk ( Heal...   \n",
       "5                                     Devops Engineer   \n",
       "6                                   Software Engineer   \n",
       "7   Senior Consultant - Internal Audit/ Business R...   \n",
       "8                                      Java Developer   \n",
       "9                                System Administrator   \n",
       "10                                Design Engineer CAD   \n",
       "11                       Web Developer(Yii developer)   \n",
       "12                  QA Engineer - Networking/Security   \n",
       "13                                Engineering Manager   \n",
       "14                                  Node JS Developer   \n",
       "15                                Mechanical Engineer   \n",
       "16                                       UI Developer   \n",
       "17                                  Angular Developer   \n",
       "18                                  Software engineer   \n",
       "19                                      IAM Developer   \n",
       "\n",
       "                           company  \\\n",
       "0                 Resources Valley   \n",
       "1                 Resources Valley   \n",
       "2                 Resources Valley   \n",
       "3   Babar management consultancies   \n",
       "4                    Maaris Global   \n",
       "5                 Resources Valley   \n",
       "6                         E BARAHA   \n",
       "7                    Maaris Global   \n",
       "8                 Resources Valley   \n",
       "9         SPEED Consulting Pvt Ltd   \n",
       "10                        Stainley   \n",
       "11                 T & A Solutions   \n",
       "12             Arivon Technologies   \n",
       "13                        Stainley   \n",
       "14                Resources Valley   \n",
       "15                        Stainley   \n",
       "16     ANATTA TECHNOLOGY SOLUTIONS   \n",
       "17                Resources Valley   \n",
       "18                          Xpheno   \n",
       "19        IDESLABS PRIVATE LIMITED   \n",
       "\n",
       "                                          location experience_required  \n",
       "0   Pune, Jaipur, Delhi / NCR, Banglore, Pan India             1-3 Yrs  \n",
       "1                                 Jaipur, Banglore             3-6 Yrs  \n",
       "2                                 Jaipur, Banglore             3-6 Yrs  \n",
       "3                     Shimoga/Shivamogga, Banglore             0-2 Yrs  \n",
       "4                                         Banglore             4-9 Yrs  \n",
       "5                                 Jaipur, Banglore             3-6 Yrs  \n",
       "6                                         Banglore             2-7 Yrs  \n",
       "7                                         Banglore             2-5 Yrs  \n",
       "8                                 Jaipur, Banglore             3-6 Yrs  \n",
       "9                    Bangalore/Bengaluru, banglore             2-5 Yrs  \n",
       "10                                        Banglore             1-4 Yrs  \n",
       "11                                        Banglore             2-5 Yrs  \n",
       "12                                        Banglore             2-4 Yrs  \n",
       "13                                        Banglore            2-10 Yrs  \n",
       "14                         Noida, Jaipur, Banglore             3-6 Yrs  \n",
       "15                                        Banglore             1-3 Yrs  \n",
       "16                                        Banglore             2-6 Yrs  \n",
       "17                                Jaipur, Banglore             3-6 Yrs  \n",
       "18                                        Banglore            6-10 Yrs  \n",
       "19                             Banglore, Karnataka             5-5 Yrs  "
      ]
     },
     "execution_count": 23,
     "metadata": {},
     "output_type": "execute_result"
    }
   ],
   "source": [
    "jobs"
   ]
  },
  {
   "cell_type": "code",
   "execution_count": null,
   "id": "gorgeous-possession",
   "metadata": {},
   "outputs": [],
   "source": []
  }
 ],
 "metadata": {
  "kernelspec": {
   "display_name": "Python 3",
   "language": "python",
   "name": "python3"
  },
  "language_info": {
   "codemirror_mode": {
    "name": "ipython",
    "version": 3
   },
   "file_extension": ".py",
   "mimetype": "text/x-python",
   "name": "python",
   "nbconvert_exporter": "python",
   "pygments_lexer": "ipython3",
   "version": "3.7.3"
  }
 },
 "nbformat": 4,
 "nbformat_minor": 5
}
